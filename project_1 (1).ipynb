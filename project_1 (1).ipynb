{
 "cells": [
  {
   "cell_type": "code",
   "execution_count": 8,
   "id": "146fd3eb-50b4-4f6e-b82b-4a0939d86644",
   "metadata": {},
   "outputs": [],
   "source": [
    "import pandas as pd\n",
    "import matplotlib.pyplot as mlt\n",
    "import numpy as np\n",
    "import seaborn as sns"
   ]
  },
  {
   "cell_type": "code",
   "execution_count": 10,
   "id": "7bd2dede-b805-4b0e-b22c-c4e89f8f401f",
   "metadata": {},
   "outputs": [],
   "source": [
    "df=pd.read_csv(\"bike_dataset.csv\")"
   ]
  },
  {
   "cell_type": "code",
   "execution_count": 11,
   "id": "6c347a1b-54e4-4787-a301-f620741a64c5",
   "metadata": {},
   "outputs": [
    {
     "data": {
      "text/html": [
       "<div>\n",
       "<style scoped>\n",
       "    .dataframe tbody tr th:only-of-type {\n",
       "        vertical-align: middle;\n",
       "    }\n",
       "\n",
       "    .dataframe tbody tr th {\n",
       "        vertical-align: top;\n",
       "    }\n",
       "\n",
       "    .dataframe thead th {\n",
       "        text-align: right;\n",
       "    }\n",
       "</style>\n",
       "<table border=\"1\" class=\"dataframe\">\n",
       "  <thead>\n",
       "    <tr style=\"text-align: right;\">\n",
       "      <th></th>\n",
       "      <th>model_name</th>\n",
       "      <th>price</th>\n",
       "      <th>CC</th>\n",
       "      <th>mileage</th>\n",
       "      <th>type_of_bike</th>\n",
       "      <th>weight_in_kg</th>\n",
       "      <th>links</th>\n",
       "      <th>acceleration_speed</th>\n",
       "      <th>top_speed</th>\n",
       "    </tr>\n",
       "  </thead>\n",
       "  <tbody>\n",
       "    <tr>\n",
       "      <th>0</th>\n",
       "      <td>Gravton Motors Quanta</td>\n",
       "      <td>99000</td>\n",
       "      <td>NaN</td>\n",
       "      <td>320.0</td>\n",
       "      <td>Electric Bike</td>\n",
       "      <td>100</td>\n",
       "      <td>https://www.carandbike.com/gravton-motors-bike...</td>\n",
       "      <td>4.2</td>\n",
       "      <td>70.0</td>\n",
       "    </tr>\n",
       "    <tr>\n",
       "      <th>1</th>\n",
       "      <td>Simple Energy One</td>\n",
       "      <td>109999</td>\n",
       "      <td>NaN</td>\n",
       "      <td>236.0</td>\n",
       "      <td>Electric Bike</td>\n",
       "      <td>110</td>\n",
       "      <td>https://www.carandbike.com/simple-energy-bikes...</td>\n",
       "      <td>3.6</td>\n",
       "      <td>100.0</td>\n",
       "    </tr>\n",
       "    <tr>\n",
       "      <th>2</th>\n",
       "      <td>Okaya Classiq</td>\n",
       "      <td>69900</td>\n",
       "      <td>NaN</td>\n",
       "      <td>200.0</td>\n",
       "      <td>Electric Bike</td>\n",
       "      <td>95</td>\n",
       "      <td>https://www.carandbike.com/okaya-bikes/classiq</td>\n",
       "      <td>NaN</td>\n",
       "      <td>25.0</td>\n",
       "    </tr>\n",
       "    <tr>\n",
       "      <th>3</th>\n",
       "      <td>Oben Electric Rorr</td>\n",
       "      <td>102999</td>\n",
       "      <td>NaN</td>\n",
       "      <td>200.0</td>\n",
       "      <td>Electric Bike</td>\n",
       "      <td>120</td>\n",
       "      <td>https://www.carandbike.com/oben-electric-bikes...</td>\n",
       "      <td>3.0</td>\n",
       "      <td>100.0</td>\n",
       "    </tr>\n",
       "    <tr>\n",
       "      <th>4</th>\n",
       "      <td>Ola Electric S1</td>\n",
       "      <td>85099</td>\n",
       "      <td>NaN</td>\n",
       "      <td>181.0</td>\n",
       "      <td>Electric Bike</td>\n",
       "      <td>121</td>\n",
       "      <td>https://www.carandbike.com/ola-electric-bikes/s1</td>\n",
       "      <td>2.9</td>\n",
       "      <td>116.0</td>\n",
       "    </tr>\n",
       "    <tr>\n",
       "      <th>...</th>\n",
       "      <td>...</td>\n",
       "      <td>...</td>\n",
       "      <td>...</td>\n",
       "      <td>...</td>\n",
       "      <td>...</td>\n",
       "      <td>...</td>\n",
       "      <td>...</td>\n",
       "      <td>...</td>\n",
       "      <td>...</td>\n",
       "    </tr>\n",
       "    <tr>\n",
       "      <th>356</th>\n",
       "      <td>Aprilia RSV4</td>\n",
       "      <td>2369000</td>\n",
       "      <td>1099.0</td>\n",
       "      <td>12.0</td>\n",
       "      <td>Petrol Bike</td>\n",
       "      <td>202</td>\n",
       "      <td>https://www.carandbike.com/aprilia-bikes/rsv4</td>\n",
       "      <td>NaN</td>\n",
       "      <td>NaN</td>\n",
       "    </tr>\n",
       "    <tr>\n",
       "      <th>357</th>\n",
       "      <td>Harley-Davidson Sportster S</td>\n",
       "      <td>1551000</td>\n",
       "      <td>1252.0</td>\n",
       "      <td>11.8</td>\n",
       "      <td>Petrol Bike</td>\n",
       "      <td>228</td>\n",
       "      <td>https://www.carandbike.com/harley-davidson-bik...</td>\n",
       "      <td>NaN</td>\n",
       "      <td>NaN</td>\n",
       "    </tr>\n",
       "    <tr>\n",
       "      <th>358</th>\n",
       "      <td>Suzuki Hayabusa</td>\n",
       "      <td>1640000</td>\n",
       "      <td>1340.0</td>\n",
       "      <td>11.0</td>\n",
       "      <td>Petrol Bike</td>\n",
       "      <td>266</td>\n",
       "      <td>https://www.carandbike.com/suzuki-bikes/hayabusa</td>\n",
       "      <td>NaN</td>\n",
       "      <td>NaN</td>\n",
       "    </tr>\n",
       "    <tr>\n",
       "      <th>359</th>\n",
       "      <td>Ducati Hypermotard 950</td>\n",
       "      <td>1402278</td>\n",
       "      <td>937.0</td>\n",
       "      <td>9.0</td>\n",
       "      <td>Petrol Bike</td>\n",
       "      <td>176</td>\n",
       "      <td>https://www.carandbike.com/ducati-bikes/hyperm...</td>\n",
       "      <td>NaN</td>\n",
       "      <td>NaN</td>\n",
       "    </tr>\n",
       "    <tr>\n",
       "      <th>360</th>\n",
       "      <td>Harley-Davidson CVO Limited</td>\n",
       "      <td>4999000</td>\n",
       "      <td>1923.0</td>\n",
       "      <td>8.0</td>\n",
       "      <td>Petrol Bike</td>\n",
       "      <td>411</td>\n",
       "      <td>https://www.carandbike.com/harley-davidson-bik...</td>\n",
       "      <td>NaN</td>\n",
       "      <td>NaN</td>\n",
       "    </tr>\n",
       "  </tbody>\n",
       "</table>\n",
       "<p>361 rows × 9 columns</p>\n",
       "</div>"
      ],
      "text/plain": [
       "                      model_name    price      CC  mileage   type_of_bike  \\\n",
       "0          Gravton Motors Quanta    99000     NaN    320.0  Electric Bike   \n",
       "1              Simple Energy One   109999     NaN    236.0  Electric Bike   \n",
       "2                  Okaya Classiq    69900     NaN    200.0  Electric Bike   \n",
       "3             Oben Electric Rorr   102999     NaN    200.0  Electric Bike   \n",
       "4                Ola Electric S1    85099     NaN    181.0  Electric Bike   \n",
       "..                           ...      ...     ...      ...            ...   \n",
       "356                 Aprilia RSV4  2369000  1099.0     12.0    Petrol Bike   \n",
       "357  Harley-Davidson Sportster S  1551000  1252.0     11.8    Petrol Bike   \n",
       "358              Suzuki Hayabusa  1640000  1340.0     11.0    Petrol Bike   \n",
       "359       Ducati Hypermotard 950  1402278   937.0      9.0    Petrol Bike   \n",
       "360  Harley-Davidson CVO Limited  4999000  1923.0      8.0    Petrol Bike   \n",
       "\n",
       "     weight_in_kg                                              links  \\\n",
       "0             100  https://www.carandbike.com/gravton-motors-bike...   \n",
       "1             110  https://www.carandbike.com/simple-energy-bikes...   \n",
       "2              95     https://www.carandbike.com/okaya-bikes/classiq   \n",
       "3             120  https://www.carandbike.com/oben-electric-bikes...   \n",
       "4             121   https://www.carandbike.com/ola-electric-bikes/s1   \n",
       "..            ...                                                ...   \n",
       "356           202      https://www.carandbike.com/aprilia-bikes/rsv4   \n",
       "357           228  https://www.carandbike.com/harley-davidson-bik...   \n",
       "358           266   https://www.carandbike.com/suzuki-bikes/hayabusa   \n",
       "359           176  https://www.carandbike.com/ducati-bikes/hyperm...   \n",
       "360           411  https://www.carandbike.com/harley-davidson-bik...   \n",
       "\n",
       "     acceleration_speed  top_speed  \n",
       "0                   4.2       70.0  \n",
       "1                   3.6      100.0  \n",
       "2                   NaN       25.0  \n",
       "3                   3.0      100.0  \n",
       "4                   2.9      116.0  \n",
       "..                  ...        ...  \n",
       "356                 NaN        NaN  \n",
       "357                 NaN        NaN  \n",
       "358                 NaN        NaN  \n",
       "359                 NaN        NaN  \n",
       "360                 NaN        NaN  \n",
       "\n",
       "[361 rows x 9 columns]"
      ]
     },
     "execution_count": 11,
     "metadata": {},
     "output_type": "execute_result"
    }
   ],
   "source": [
    "df"
   ]
  },
  {
   "cell_type": "code",
   "execution_count": 33,
   "id": "fa2738a0-e159-4e87-95c4-c93a46261753",
   "metadata": {},
   "outputs": [
    {
     "name": "stdout",
     "output_type": "stream",
     "text": [
      "<class 'pandas.core.frame.DataFrame'>\n",
      "RangeIndex: 361 entries, 0 to 360\n",
      "Data columns (total 9 columns):\n",
      " #   Column              Non-Null Count  Dtype  \n",
      "---  ------              --------------  -----  \n",
      " 0   model_name          361 non-null    object \n",
      " 1   price               361 non-null    int64  \n",
      " 2   CC                  304 non-null    float64\n",
      " 3   mileage             361 non-null    float64\n",
      " 4   type_of_bike        361 non-null    object \n",
      " 5   weight_in_kg        361 non-null    int64  \n",
      " 6   links               361 non-null    object \n",
      " 7   acceleration_speed  170 non-null    float64\n",
      " 8   top_speed           200 non-null    float64\n",
      "dtypes: float64(4), int64(2), object(3)\n",
      "memory usage: 25.5+ KB\n"
     ]
    }
   ],
   "source": [
    "df.info() "
   ]
  },
  {
   "cell_type": "code",
   "execution_count": 34,
   "id": "39799e4b-4d53-4c93-a4ca-a05baa2ef083",
   "metadata": {},
   "outputs": [
    {
     "data": {
      "text/plain": [
       "model_name              0\n",
       "price                   0\n",
       "CC                     57\n",
       "mileage                 0\n",
       "type_of_bike            0\n",
       "weight_in_kg            0\n",
       "links                   0\n",
       "acceleration_speed    191\n",
       "top_speed             161\n",
       "dtype: int64"
      ]
     },
     "execution_count": 34,
     "metadata": {},
     "output_type": "execute_result"
    }
   ],
   "source": [
    "df.isnull().sum()"
   ]
  },
  {
   "cell_type": "code",
   "execution_count": 35,
   "id": "e91a5c86-743c-44e9-b5e1-7f60bbac53f2",
   "metadata": {
    "scrolled": true
   },
   "outputs": [
    {
     "data": {
      "text/html": [
       "<div>\n",
       "<style scoped>\n",
       "    .dataframe tbody tr th:only-of-type {\n",
       "        vertical-align: middle;\n",
       "    }\n",
       "\n",
       "    .dataframe tbody tr th {\n",
       "        vertical-align: top;\n",
       "    }\n",
       "\n",
       "    .dataframe thead th {\n",
       "        text-align: right;\n",
       "    }\n",
       "</style>\n",
       "<table border=\"1\" class=\"dataframe\">\n",
       "  <thead>\n",
       "    <tr style=\"text-align: right;\">\n",
       "      <th></th>\n",
       "      <th>price</th>\n",
       "      <th>CC</th>\n",
       "      <th>mileage</th>\n",
       "      <th>weight_in_kg</th>\n",
       "      <th>acceleration_speed</th>\n",
       "      <th>top_speed</th>\n",
       "    </tr>\n",
       "  </thead>\n",
       "  <tbody>\n",
       "    <tr>\n",
       "      <th>count</th>\n",
       "      <td>3.610000e+02</td>\n",
       "      <td>304.000000</td>\n",
       "      <td>361.000000</td>\n",
       "      <td>361.000000</td>\n",
       "      <td>170.000000</td>\n",
       "      <td>200.000000</td>\n",
       "    </tr>\n",
       "    <tr>\n",
       "      <th>mean</th>\n",
       "      <td>8.399079e+05</td>\n",
       "      <td>680.973684</td>\n",
       "      <td>44.681413</td>\n",
       "      <td>178.839335</td>\n",
       "      <td>4.193412</td>\n",
       "      <td>99.338650</td>\n",
       "    </tr>\n",
       "    <tr>\n",
       "      <th>std</th>\n",
       "      <td>1.052083e+06</td>\n",
       "      <td>547.744364</td>\n",
       "      <td>39.890270</td>\n",
       "      <td>73.839516</td>\n",
       "      <td>2.369334</td>\n",
       "      <td>39.631992</td>\n",
       "    </tr>\n",
       "    <tr>\n",
       "      <th>min</th>\n",
       "      <td>3.800000e+04</td>\n",
       "      <td>87.800000</td>\n",
       "      <td>8.000000</td>\n",
       "      <td>55.000000</td>\n",
       "      <td>1.010000</td>\n",
       "      <td>25.000000</td>\n",
       "    </tr>\n",
       "    <tr>\n",
       "      <th>25%</th>\n",
       "      <td>1.000000e+05</td>\n",
       "      <td>164.425000</td>\n",
       "      <td>20.000000</td>\n",
       "      <td>118.000000</td>\n",
       "      <td>2.800000</td>\n",
       "      <td>79.500000</td>\n",
       "    </tr>\n",
       "    <tr>\n",
       "      <th>50%</th>\n",
       "      <td>2.420000e+05</td>\n",
       "      <td>618.000000</td>\n",
       "      <td>30.000000</td>\n",
       "      <td>169.000000</td>\n",
       "      <td>3.215000</td>\n",
       "      <td>100.000000</td>\n",
       "    </tr>\n",
       "    <tr>\n",
       "      <th>75%</th>\n",
       "      <td>1.459000e+06</td>\n",
       "      <td>1051.500000</td>\n",
       "      <td>55.000000</td>\n",
       "      <td>216.000000</td>\n",
       "      <td>5.075000</td>\n",
       "      <td>129.115000</td>\n",
       "    </tr>\n",
       "    <tr>\n",
       "      <th>max</th>\n",
       "      <td>7.990000e+06</td>\n",
       "      <td>2458.000000</td>\n",
       "      <td>320.000000</td>\n",
       "      <td>433.000000</td>\n",
       "      <td>13.800000</td>\n",
       "      <td>200.000000</td>\n",
       "    </tr>\n",
       "  </tbody>\n",
       "</table>\n",
       "</div>"
      ],
      "text/plain": [
       "              price           CC     mileage  weight_in_kg  \\\n",
       "count  3.610000e+02   304.000000  361.000000    361.000000   \n",
       "mean   8.399079e+05   680.973684   44.681413    178.839335   \n",
       "std    1.052083e+06   547.744364   39.890270     73.839516   \n",
       "min    3.800000e+04    87.800000    8.000000     55.000000   \n",
       "25%    1.000000e+05   164.425000   20.000000    118.000000   \n",
       "50%    2.420000e+05   618.000000   30.000000    169.000000   \n",
       "75%    1.459000e+06  1051.500000   55.000000    216.000000   \n",
       "max    7.990000e+06  2458.000000  320.000000    433.000000   \n",
       "\n",
       "       acceleration_speed   top_speed  \n",
       "count          170.000000  200.000000  \n",
       "mean             4.193412   99.338650  \n",
       "std              2.369334   39.631992  \n",
       "min              1.010000   25.000000  \n",
       "25%              2.800000   79.500000  \n",
       "50%              3.215000  100.000000  \n",
       "75%              5.075000  129.115000  \n",
       "max             13.800000  200.000000  "
      ]
     },
     "execution_count": 35,
     "metadata": {},
     "output_type": "execute_result"
    }
   ],
   "source": [
    "df.describe()"
   ]
  },
  {
   "cell_type": "code",
   "execution_count": 36,
   "id": "c8dac99d-7103-46ac-89d4-33b960b43368",
   "metadata": {},
   "outputs": [
    {
     "data": {
      "text/plain": [
       "0         NaN\n",
       "1         NaN\n",
       "2         NaN\n",
       "3         NaN\n",
       "4         NaN\n",
       "        ...  \n",
       "356    1099.0\n",
       "357    1252.0\n",
       "358    1340.0\n",
       "359     937.0\n",
       "360    1923.0\n",
       "Name: CC, Length: 361, dtype: float64"
      ]
     },
     "execution_count": 36,
     "metadata": {},
     "output_type": "execute_result"
    }
   ],
   "source": [
    "df.CC"
   ]
  },
  {
   "cell_type": "code",
   "execution_count": 58,
   "id": "85e759fa-9bde-4a76-aba8-0fba776c4924",
   "metadata": {},
   "outputs": [
    {
     "data": {
      "text/plain": [
       "680.9736842105264"
      ]
     },
     "execution_count": 58,
     "metadata": {},
     "output_type": "execute_result"
    }
   ],
   "source": [
    "df['CC'].mean()"
   ]
  },
  {
   "cell_type": "code",
   "execution_count": 60,
   "id": "7464b97c-cfb9-4036-a770-f9a3296474c3",
   "metadata": {},
   "outputs": [],
   "source": [
    "df['CC'] = df['CC'].apply(lambda x: df['CC'].mean() if pd.isnull(x) else x)"
   ]
  },
  {
   "cell_type": "code",
   "execution_count": 68,
   "id": "8d6db5e2-7530-4b22-ac18-c144bdd635a2",
   "metadata": {},
   "outputs": [],
   "source": [
    "df['CC']=df['CC'].astype(int)"
   ]
  },
  {
   "cell_type": "code",
   "execution_count": 69,
   "id": "000cf150-96da-48a2-adfc-d3fe414f89e3",
   "metadata": {},
   "outputs": [
    {
     "data": {
      "text/plain": [
       "0       680\n",
       "1       680\n",
       "2       680\n",
       "3       680\n",
       "4       680\n",
       "       ... \n",
       "356    1099\n",
       "357    1252\n",
       "358    1340\n",
       "359     937\n",
       "360    1923\n",
       "Name: CC, Length: 361, dtype: int32"
      ]
     },
     "execution_count": 69,
     "metadata": {},
     "output_type": "execute_result"
    }
   ],
   "source": [
    "df.CC"
   ]
  },
  {
   "cell_type": "code",
   "execution_count": 70,
   "id": "8d1dc14d-ed06-4fea-9484-28bb51e2fdaa",
   "metadata": {},
   "outputs": [
    {
     "data": {
      "text/plain": [
       "model_name              0\n",
       "price                   0\n",
       "CC                      0\n",
       "mileage                 0\n",
       "type_of_bike            0\n",
       "weight_in_kg            0\n",
       "links                   0\n",
       "acceleration_speed    191\n",
       "top_speed             161\n",
       "dtype: int64"
      ]
     },
     "execution_count": 70,
     "metadata": {},
     "output_type": "execute_result"
    }
   ],
   "source": [
    "df.isnull().sum()"
   ]
  },
  {
   "cell_type": "code",
   "execution_count": 71,
   "id": "4c927bda-438a-474e-8f39-a27feedf2f19",
   "metadata": {},
   "outputs": [
    {
     "data": {
      "text/html": [
       "<div>\n",
       "<style scoped>\n",
       "    .dataframe tbody tr th:only-of-type {\n",
       "        vertical-align: middle;\n",
       "    }\n",
       "\n",
       "    .dataframe tbody tr th {\n",
       "        vertical-align: top;\n",
       "    }\n",
       "\n",
       "    .dataframe thead th {\n",
       "        text-align: right;\n",
       "    }\n",
       "</style>\n",
       "<table border=\"1\" class=\"dataframe\">\n",
       "  <thead>\n",
       "    <tr style=\"text-align: right;\">\n",
       "      <th></th>\n",
       "      <th>model_name</th>\n",
       "      <th>price</th>\n",
       "      <th>CC</th>\n",
       "      <th>mileage</th>\n",
       "      <th>type_of_bike</th>\n",
       "      <th>weight_in_kg</th>\n",
       "      <th>links</th>\n",
       "      <th>acceleration_speed</th>\n",
       "      <th>top_speed</th>\n",
       "    </tr>\n",
       "  </thead>\n",
       "  <tbody>\n",
       "    <tr>\n",
       "      <th>0</th>\n",
       "      <td>Gravton Motors Quanta</td>\n",
       "      <td>99000</td>\n",
       "      <td>680</td>\n",
       "      <td>320.0</td>\n",
       "      <td>Electric Bike</td>\n",
       "      <td>100</td>\n",
       "      <td>https://www.carandbike.com/gravton-motors-bike...</td>\n",
       "      <td>4.2</td>\n",
       "      <td>70.0</td>\n",
       "    </tr>\n",
       "    <tr>\n",
       "      <th>1</th>\n",
       "      <td>Simple Energy One</td>\n",
       "      <td>109999</td>\n",
       "      <td>680</td>\n",
       "      <td>236.0</td>\n",
       "      <td>Electric Bike</td>\n",
       "      <td>110</td>\n",
       "      <td>https://www.carandbike.com/simple-energy-bikes...</td>\n",
       "      <td>3.6</td>\n",
       "      <td>100.0</td>\n",
       "    </tr>\n",
       "    <tr>\n",
       "      <th>2</th>\n",
       "      <td>Okaya Classiq</td>\n",
       "      <td>69900</td>\n",
       "      <td>680</td>\n",
       "      <td>200.0</td>\n",
       "      <td>Electric Bike</td>\n",
       "      <td>95</td>\n",
       "      <td>https://www.carandbike.com/okaya-bikes/classiq</td>\n",
       "      <td>NaN</td>\n",
       "      <td>25.0</td>\n",
       "    </tr>\n",
       "    <tr>\n",
       "      <th>3</th>\n",
       "      <td>Oben Electric Rorr</td>\n",
       "      <td>102999</td>\n",
       "      <td>680</td>\n",
       "      <td>200.0</td>\n",
       "      <td>Electric Bike</td>\n",
       "      <td>120</td>\n",
       "      <td>https://www.carandbike.com/oben-electric-bikes...</td>\n",
       "      <td>3.0</td>\n",
       "      <td>100.0</td>\n",
       "    </tr>\n",
       "    <tr>\n",
       "      <th>4</th>\n",
       "      <td>Ola Electric S1</td>\n",
       "      <td>85099</td>\n",
       "      <td>680</td>\n",
       "      <td>181.0</td>\n",
       "      <td>Electric Bike</td>\n",
       "      <td>121</td>\n",
       "      <td>https://www.carandbike.com/ola-electric-bikes/s1</td>\n",
       "      <td>2.9</td>\n",
       "      <td>116.0</td>\n",
       "    </tr>\n",
       "    <tr>\n",
       "      <th>...</th>\n",
       "      <td>...</td>\n",
       "      <td>...</td>\n",
       "      <td>...</td>\n",
       "      <td>...</td>\n",
       "      <td>...</td>\n",
       "      <td>...</td>\n",
       "      <td>...</td>\n",
       "      <td>...</td>\n",
       "      <td>...</td>\n",
       "    </tr>\n",
       "    <tr>\n",
       "      <th>356</th>\n",
       "      <td>Aprilia RSV4</td>\n",
       "      <td>2369000</td>\n",
       "      <td>1099</td>\n",
       "      <td>12.0</td>\n",
       "      <td>Petrol Bike</td>\n",
       "      <td>202</td>\n",
       "      <td>https://www.carandbike.com/aprilia-bikes/rsv4</td>\n",
       "      <td>NaN</td>\n",
       "      <td>NaN</td>\n",
       "    </tr>\n",
       "    <tr>\n",
       "      <th>357</th>\n",
       "      <td>Harley-Davidson Sportster S</td>\n",
       "      <td>1551000</td>\n",
       "      <td>1252</td>\n",
       "      <td>11.8</td>\n",
       "      <td>Petrol Bike</td>\n",
       "      <td>228</td>\n",
       "      <td>https://www.carandbike.com/harley-davidson-bik...</td>\n",
       "      <td>NaN</td>\n",
       "      <td>NaN</td>\n",
       "    </tr>\n",
       "    <tr>\n",
       "      <th>358</th>\n",
       "      <td>Suzuki Hayabusa</td>\n",
       "      <td>1640000</td>\n",
       "      <td>1340</td>\n",
       "      <td>11.0</td>\n",
       "      <td>Petrol Bike</td>\n",
       "      <td>266</td>\n",
       "      <td>https://www.carandbike.com/suzuki-bikes/hayabusa</td>\n",
       "      <td>NaN</td>\n",
       "      <td>NaN</td>\n",
       "    </tr>\n",
       "    <tr>\n",
       "      <th>359</th>\n",
       "      <td>Ducati Hypermotard 950</td>\n",
       "      <td>1402278</td>\n",
       "      <td>937</td>\n",
       "      <td>9.0</td>\n",
       "      <td>Petrol Bike</td>\n",
       "      <td>176</td>\n",
       "      <td>https://www.carandbike.com/ducati-bikes/hyperm...</td>\n",
       "      <td>NaN</td>\n",
       "      <td>NaN</td>\n",
       "    </tr>\n",
       "    <tr>\n",
       "      <th>360</th>\n",
       "      <td>Harley-Davidson CVO Limited</td>\n",
       "      <td>4999000</td>\n",
       "      <td>1923</td>\n",
       "      <td>8.0</td>\n",
       "      <td>Petrol Bike</td>\n",
       "      <td>411</td>\n",
       "      <td>https://www.carandbike.com/harley-davidson-bik...</td>\n",
       "      <td>NaN</td>\n",
       "      <td>NaN</td>\n",
       "    </tr>\n",
       "  </tbody>\n",
       "</table>\n",
       "<p>361 rows × 9 columns</p>\n",
       "</div>"
      ],
      "text/plain": [
       "                      model_name    price    CC  mileage   type_of_bike  \\\n",
       "0          Gravton Motors Quanta    99000   680    320.0  Electric Bike   \n",
       "1              Simple Energy One   109999   680    236.0  Electric Bike   \n",
       "2                  Okaya Classiq    69900   680    200.0  Electric Bike   \n",
       "3             Oben Electric Rorr   102999   680    200.0  Electric Bike   \n",
       "4                Ola Electric S1    85099   680    181.0  Electric Bike   \n",
       "..                           ...      ...   ...      ...            ...   \n",
       "356                 Aprilia RSV4  2369000  1099     12.0    Petrol Bike   \n",
       "357  Harley-Davidson Sportster S  1551000  1252     11.8    Petrol Bike   \n",
       "358              Suzuki Hayabusa  1640000  1340     11.0    Petrol Bike   \n",
       "359       Ducati Hypermotard 950  1402278   937      9.0    Petrol Bike   \n",
       "360  Harley-Davidson CVO Limited  4999000  1923      8.0    Petrol Bike   \n",
       "\n",
       "     weight_in_kg                                              links  \\\n",
       "0             100  https://www.carandbike.com/gravton-motors-bike...   \n",
       "1             110  https://www.carandbike.com/simple-energy-bikes...   \n",
       "2              95     https://www.carandbike.com/okaya-bikes/classiq   \n",
       "3             120  https://www.carandbike.com/oben-electric-bikes...   \n",
       "4             121   https://www.carandbike.com/ola-electric-bikes/s1   \n",
       "..            ...                                                ...   \n",
       "356           202      https://www.carandbike.com/aprilia-bikes/rsv4   \n",
       "357           228  https://www.carandbike.com/harley-davidson-bik...   \n",
       "358           266   https://www.carandbike.com/suzuki-bikes/hayabusa   \n",
       "359           176  https://www.carandbike.com/ducati-bikes/hyperm...   \n",
       "360           411  https://www.carandbike.com/harley-davidson-bik...   \n",
       "\n",
       "     acceleration_speed  top_speed  \n",
       "0                   4.2       70.0  \n",
       "1                   3.6      100.0  \n",
       "2                   NaN       25.0  \n",
       "3                   3.0      100.0  \n",
       "4                   2.9      116.0  \n",
       "..                  ...        ...  \n",
       "356                 NaN        NaN  \n",
       "357                 NaN        NaN  \n",
       "358                 NaN        NaN  \n",
       "359                 NaN        NaN  \n",
       "360                 NaN        NaN  \n",
       "\n",
       "[361 rows x 9 columns]"
      ]
     },
     "execution_count": 71,
     "metadata": {},
     "output_type": "execute_result"
    }
   ],
   "source": [
    "df"
   ]
  },
  {
   "cell_type": "code",
   "execution_count": 72,
   "id": "dfdfe93f-2b41-4923-8455-00eb474c1090",
   "metadata": {},
   "outputs": [
    {
     "data": {
      "text/plain": [
       "0      4.2\n",
       "1      3.6\n",
       "2      NaN\n",
       "3      3.0\n",
       "4      2.9\n",
       "      ... \n",
       "356    NaN\n",
       "357    NaN\n",
       "358    NaN\n",
       "359    NaN\n",
       "360    NaN\n",
       "Name: acceleration_speed, Length: 361, dtype: float64"
      ]
     },
     "execution_count": 72,
     "metadata": {},
     "output_type": "execute_result"
    }
   ],
   "source": [
    "df['acceleration_speed']"
   ]
  },
  {
   "cell_type": "code",
   "execution_count": 73,
   "id": "59aa3ad6-48ca-4318-ac2e-48337d75b1fd",
   "metadata": {},
   "outputs": [
    {
     "data": {
      "text/plain": [
       "3.215"
      ]
     },
     "execution_count": 73,
     "metadata": {},
     "output_type": "execute_result"
    }
   ],
   "source": [
    "df['acceleration_speed'].median()"
   ]
  },
  {
   "cell_type": "code",
   "execution_count": 74,
   "id": "ea6a37c2-e5c8-4a30-8083-616b7b674669",
   "metadata": {},
   "outputs": [],
   "source": [
    "df['acceleration_speed'] = df['acceleration_speed'].apply(lambda x: df['acceleration_speed'].median() if pd.isnull(x) else x)"
   ]
  },
  {
   "cell_type": "code",
   "execution_count": 75,
   "id": "c4fc2c25-f907-4123-bf08-99bf7f7c5e27",
   "metadata": {},
   "outputs": [
    {
     "data": {
      "text/plain": [
       "0      4.200\n",
       "1      3.600\n",
       "2      3.215\n",
       "3      3.000\n",
       "4      2.900\n",
       "       ...  \n",
       "356    3.215\n",
       "357    3.215\n",
       "358    3.215\n",
       "359    3.215\n",
       "360    3.215\n",
       "Name: acceleration_speed, Length: 361, dtype: float64"
      ]
     },
     "execution_count": 75,
     "metadata": {},
     "output_type": "execute_result"
    }
   ],
   "source": [
    "df['acceleration_speed']"
   ]
  },
  {
   "cell_type": "code",
   "execution_count": 76,
   "id": "3fab9c0c-38c2-47a9-97e1-b0818b8a4872",
   "metadata": {},
   "outputs": [
    {
     "data": {
      "text/plain": [
       "model_name              0\n",
       "price                   0\n",
       "CC                      0\n",
       "mileage                 0\n",
       "type_of_bike            0\n",
       "weight_in_kg            0\n",
       "links                   0\n",
       "acceleration_speed      0\n",
       "top_speed             161\n",
       "dtype: int64"
      ]
     },
     "execution_count": 76,
     "metadata": {},
     "output_type": "execute_result"
    }
   ],
   "source": [
    "df.isnull().sum()"
   ]
  },
  {
   "cell_type": "code",
   "execution_count": 80,
   "id": "8b209bfd-490c-4d08-9268-ffe1bb5a4a90",
   "metadata": {},
   "outputs": [],
   "source": [
    "mean_speed=df['top_speed'].mean()"
   ]
  },
  {
   "cell_type": "code",
   "execution_count": 82,
   "id": "5c2976b3-7431-4dc5-bfd4-85bf17c71d3d",
   "metadata": {},
   "outputs": [
    {
     "data": {
      "text/plain": [
       "99.33865"
      ]
     },
     "execution_count": 82,
     "metadata": {},
     "output_type": "execute_result"
    }
   ],
   "source": [
    "mean_speed"
   ]
  },
  {
   "cell_type": "code",
   "execution_count": 81,
   "id": "79f3fab8-c2d2-43fb-affd-16962e6beb12",
   "metadata": {},
   "outputs": [],
   "source": [
    "df['top_speed'] = df['top_speed'].apply(lambda x: mean_speed if pd.isnull(x) else x)"
   ]
  },
  {
   "cell_type": "code",
   "execution_count": 83,
   "id": "0721432e-300e-45a2-8106-a8a8c3006a8f",
   "metadata": {},
   "outputs": [
    {
     "data": {
      "text/plain": [
       "0       70.00000\n",
       "1      100.00000\n",
       "2       25.00000\n",
       "3      100.00000\n",
       "4      116.00000\n",
       "         ...    \n",
       "356     99.33865\n",
       "357     99.33865\n",
       "358     99.33865\n",
       "359     99.33865\n",
       "360     99.33865\n",
       "Name: top_speed, Length: 361, dtype: float64"
      ]
     },
     "execution_count": 83,
     "metadata": {},
     "output_type": "execute_result"
    }
   ],
   "source": [
    "df['top_speed']"
   ]
  },
  {
   "cell_type": "code",
   "execution_count": 88,
   "id": "c6d417bc-2f60-4a30-8176-800ccf1d13ce",
   "metadata": {},
   "outputs": [],
   "source": [
    "df['top_speed']=df['top_speed'].astype(int)"
   ]
  },
  {
   "cell_type": "code",
   "execution_count": 89,
   "id": "c39f1c4e-f2e1-495c-b242-a52659b1faaa",
   "metadata": {},
   "outputs": [
    {
     "data": {
      "text/plain": [
       "0       70\n",
       "1      100\n",
       "2       25\n",
       "3      100\n",
       "4      116\n",
       "      ... \n",
       "356     99\n",
       "357     99\n",
       "358     99\n",
       "359     99\n",
       "360     99\n",
       "Name: top_speed, Length: 361, dtype: int32"
      ]
     },
     "execution_count": 89,
     "metadata": {},
     "output_type": "execute_result"
    }
   ],
   "source": [
    "df['top_speed']"
   ]
  },
  {
   "cell_type": "code",
   "execution_count": 90,
   "id": "ab800723-388f-4c72-a0e1-de2a07be83f7",
   "metadata": {},
   "outputs": [
    {
     "data": {
      "text/plain": [
       "model_name            0\n",
       "price                 0\n",
       "CC                    0\n",
       "mileage               0\n",
       "type_of_bike          0\n",
       "weight_in_kg          0\n",
       "links                 0\n",
       "acceleration_speed    0\n",
       "top_speed             0\n",
       "dtype: int64"
      ]
     },
     "execution_count": 90,
     "metadata": {},
     "output_type": "execute_result"
    }
   ],
   "source": [
    "df.isnull().sum()"
   ]
  },
  {
   "cell_type": "code",
   "execution_count": 91,
   "id": "fa819d40-2bb9-4696-a218-63273cc21deb",
   "metadata": {},
   "outputs": [
    {
     "name": "stdout",
     "output_type": "stream",
     "text": [
      "<class 'pandas.core.frame.DataFrame'>\n",
      "RangeIndex: 361 entries, 0 to 360\n",
      "Data columns (total 9 columns):\n",
      " #   Column              Non-Null Count  Dtype  \n",
      "---  ------              --------------  -----  \n",
      " 0   model_name          361 non-null    object \n",
      " 1   price               361 non-null    int64  \n",
      " 2   CC                  361 non-null    int32  \n",
      " 3   mileage             361 non-null    float64\n",
      " 4   type_of_bike        361 non-null    object \n",
      " 5   weight_in_kg        361 non-null    int64  \n",
      " 6   links               361 non-null    object \n",
      " 7   acceleration_speed  361 non-null    float64\n",
      " 8   top_speed           361 non-null    int32  \n",
      "dtypes: float64(2), int32(2), int64(2), object(3)\n",
      "memory usage: 22.7+ KB\n"
     ]
    }
   ],
   "source": [
    "df.info()"
   ]
  },
  {
   "cell_type": "code",
   "execution_count": 21,
   "id": "662fc83f-dcf8-4b0f-bc17-5e97cc1fefc4",
   "metadata": {},
   "outputs": [],
   "source": [
    "df.sort_values(by='price',inplace=True)"
   ]
  },
  {
   "cell_type": "code",
   "execution_count": 101,
   "id": "b7bfe10b-2fec-45ac-aa01-a92bb2a266f2",
   "metadata": {},
   "outputs": [
    {
     "data": {
      "text/html": [
       "<div>\n",
       "<style scoped>\n",
       "    .dataframe tbody tr th:only-of-type {\n",
       "        vertical-align: middle;\n",
       "    }\n",
       "\n",
       "    .dataframe tbody tr th {\n",
       "        vertical-align: top;\n",
       "    }\n",
       "\n",
       "    .dataframe thead th {\n",
       "        text-align: right;\n",
       "    }\n",
       "</style>\n",
       "<table border=\"1\" class=\"dataframe\">\n",
       "  <thead>\n",
       "    <tr style=\"text-align: right;\">\n",
       "      <th></th>\n",
       "      <th>model_name</th>\n",
       "      <th>price</th>\n",
       "      <th>CC</th>\n",
       "      <th>mileage</th>\n",
       "      <th>type_of_bike</th>\n",
       "      <th>weight_in_kg</th>\n",
       "      <th>links</th>\n",
       "      <th>acceleration_speed</th>\n",
       "      <th>top_speed</th>\n",
       "    </tr>\n",
       "  </thead>\n",
       "  <tbody>\n",
       "    <tr>\n",
       "      <th>44</th>\n",
       "      <td>Polarity Executive</td>\n",
       "      <td>38000</td>\n",
       "      <td>680</td>\n",
       "      <td>80.0</td>\n",
       "      <td>Electric Bike</td>\n",
       "      <td>55</td>\n",
       "      <td>https://www.carandbike.com/polarity-bikes/exec...</td>\n",
       "      <td>3.215</td>\n",
       "      <td>40</td>\n",
       "    </tr>\n",
       "    <tr>\n",
       "      <th>108</th>\n",
       "      <td>Ampere V48</td>\n",
       "      <td>38719</td>\n",
       "      <td>680</td>\n",
       "      <td>45.0</td>\n",
       "      <td>Electric Bike</td>\n",
       "      <td>84</td>\n",
       "      <td>https://www.carandbike.com/ampere-bikes/v48</td>\n",
       "      <td>3.215</td>\n",
       "      <td>25</td>\n",
       "    </tr>\n",
       "    <tr>\n",
       "      <th>87</th>\n",
       "      <td>Evolet Pony</td>\n",
       "      <td>39499</td>\n",
       "      <td>680</td>\n",
       "      <td>55.0</td>\n",
       "      <td>Electric Bike</td>\n",
       "      <td>82</td>\n",
       "      <td>https://www.carandbike.com/evolet-bikes/pony</td>\n",
       "      <td>3.215</td>\n",
       "      <td>25</td>\n",
       "    </tr>\n",
       "    <tr>\n",
       "      <th>45</th>\n",
       "      <td>Polarity Sport</td>\n",
       "      <td>40000</td>\n",
       "      <td>680</td>\n",
       "      <td>80.0</td>\n",
       "      <td>Electric Bike</td>\n",
       "      <td>55</td>\n",
       "      <td>https://www.carandbike.com/polarity-bikes/sport</td>\n",
       "      <td>3.215</td>\n",
       "      <td>45</td>\n",
       "    </tr>\n",
       "    <tr>\n",
       "      <th>34</th>\n",
       "      <td>Bajaj CT 100</td>\n",
       "      <td>40794</td>\n",
       "      <td>102</td>\n",
       "      <td>89.5</td>\n",
       "      <td>Petrol Bike</td>\n",
       "      <td>114</td>\n",
       "      <td>https://www.carandbike.com/bajaj-bikes/ct-100</td>\n",
       "      <td>3.300</td>\n",
       "      <td>90</td>\n",
       "    </tr>\n",
       "  </tbody>\n",
       "</table>\n",
       "</div>"
      ],
      "text/plain": [
       "             model_name  price   CC  mileage   type_of_bike  weight_in_kg  \\\n",
       "44   Polarity Executive  38000  680     80.0  Electric Bike            55   \n",
       "108          Ampere V48  38719  680     45.0  Electric Bike            84   \n",
       "87          Evolet Pony  39499  680     55.0  Electric Bike            82   \n",
       "45       Polarity Sport  40000  680     80.0  Electric Bike            55   \n",
       "34         Bajaj CT 100  40794  102     89.5    Petrol Bike           114   \n",
       "\n",
       "                                                 links  acceleration_speed  \\\n",
       "44   https://www.carandbike.com/polarity-bikes/exec...               3.215   \n",
       "108        https://www.carandbike.com/ampere-bikes/v48               3.215   \n",
       "87        https://www.carandbike.com/evolet-bikes/pony               3.215   \n",
       "45     https://www.carandbike.com/polarity-bikes/sport               3.215   \n",
       "34       https://www.carandbike.com/bajaj-bikes/ct-100               3.300   \n",
       "\n",
       "     top_speed  \n",
       "44          40  \n",
       "108         25  \n",
       "87          25  \n",
       "45          45  \n",
       "34          90  "
      ]
     },
     "execution_count": 101,
     "metadata": {},
     "output_type": "execute_result"
    }
   ],
   "source": [
    "df.head()"
   ]
  },
  {
   "cell_type": "code",
   "execution_count": 102,
   "id": "e41fd852-7750-48a5-8f89-4730100104c3",
   "metadata": {},
   "outputs": [
    {
     "data": {
      "text/html": [
       "<div>\n",
       "<style scoped>\n",
       "    .dataframe tbody tr th:only-of-type {\n",
       "        vertical-align: middle;\n",
       "    }\n",
       "\n",
       "    .dataframe tbody tr th {\n",
       "        vertical-align: top;\n",
       "    }\n",
       "\n",
       "    .dataframe thead th {\n",
       "        text-align: right;\n",
       "    }\n",
       "</style>\n",
       "<table border=\"1\" class=\"dataframe\">\n",
       "  <thead>\n",
       "    <tr style=\"text-align: right;\">\n",
       "      <th></th>\n",
       "      <th>model_name</th>\n",
       "      <th>price</th>\n",
       "      <th>CC</th>\n",
       "      <th>mileage</th>\n",
       "      <th>type_of_bike</th>\n",
       "      <th>weight_in_kg</th>\n",
       "      <th>links</th>\n",
       "      <th>acceleration_speed</th>\n",
       "      <th>top_speed</th>\n",
       "    </tr>\n",
       "  </thead>\n",
       "  <tbody>\n",
       "    <tr>\n",
       "      <th>310</th>\n",
       "      <td>BMW M 1000 RR</td>\n",
       "      <td>4200000</td>\n",
       "      <td>999</td>\n",
       "      <td>15.4</td>\n",
       "      <td>Petrol Bike</td>\n",
       "      <td>192</td>\n",
       "      <td>https://www.carandbike.com/bmw-bikes/m-1000-rr</td>\n",
       "      <td>3.215</td>\n",
       "      <td>99</td>\n",
       "    </tr>\n",
       "    <tr>\n",
       "      <th>337</th>\n",
       "      <td>Indian Roadmaster Elite</td>\n",
       "      <td>4800000</td>\n",
       "      <td>1811</td>\n",
       "      <td>15.0</td>\n",
       "      <td>Petrol Bike</td>\n",
       "      <td>433</td>\n",
       "      <td>https://www.carandbike.com/indian-bikes/roadma...</td>\n",
       "      <td>3.215</td>\n",
       "      <td>99</td>\n",
       "    </tr>\n",
       "    <tr>\n",
       "      <th>360</th>\n",
       "      <td>Harley-Davidson CVO Limited</td>\n",
       "      <td>4999000</td>\n",
       "      <td>1923</td>\n",
       "      <td>8.0</td>\n",
       "      <td>Petrol Bike</td>\n",
       "      <td>411</td>\n",
       "      <td>https://www.carandbike.com/harley-davidson-bik...</td>\n",
       "      <td>3.215</td>\n",
       "      <td>99</td>\n",
       "    </tr>\n",
       "    <tr>\n",
       "      <th>338</th>\n",
       "      <td>Ducati 1299 Panigale</td>\n",
       "      <td>5182000</td>\n",
       "      <td>1285</td>\n",
       "      <td>15.0</td>\n",
       "      <td>Petrol Bike</td>\n",
       "      <td>190</td>\n",
       "      <td>https://www.carandbike.com/ducati-bikes/1299-p...</td>\n",
       "      <td>3.215</td>\n",
       "      <td>99</td>\n",
       "    </tr>\n",
       "    <tr>\n",
       "      <th>339</th>\n",
       "      <td>Kawasaki Ninja H2R</td>\n",
       "      <td>7990000</td>\n",
       "      <td>998</td>\n",
       "      <td>15.0</td>\n",
       "      <td>Petrol Bike</td>\n",
       "      <td>216</td>\n",
       "      <td>https://www.carandbike.com/kawasaki-bikes/ninj...</td>\n",
       "      <td>3.215</td>\n",
       "      <td>99</td>\n",
       "    </tr>\n",
       "  </tbody>\n",
       "</table>\n",
       "</div>"
      ],
      "text/plain": [
       "                      model_name    price    CC  mileage type_of_bike  \\\n",
       "310                BMW M 1000 RR  4200000   999     15.4  Petrol Bike   \n",
       "337      Indian Roadmaster Elite  4800000  1811     15.0  Petrol Bike   \n",
       "360  Harley-Davidson CVO Limited  4999000  1923      8.0  Petrol Bike   \n",
       "338         Ducati 1299 Panigale  5182000  1285     15.0  Petrol Bike   \n",
       "339           Kawasaki Ninja H2R  7990000   998     15.0  Petrol Bike   \n",
       "\n",
       "     weight_in_kg                                              links  \\\n",
       "310           192     https://www.carandbike.com/bmw-bikes/m-1000-rr   \n",
       "337           433  https://www.carandbike.com/indian-bikes/roadma...   \n",
       "360           411  https://www.carandbike.com/harley-davidson-bik...   \n",
       "338           190  https://www.carandbike.com/ducati-bikes/1299-p...   \n",
       "339           216  https://www.carandbike.com/kawasaki-bikes/ninj...   \n",
       "\n",
       "     acceleration_speed  top_speed  \n",
       "310               3.215         99  \n",
       "337               3.215         99  \n",
       "360               3.215         99  \n",
       "338               3.215         99  \n",
       "339               3.215         99  "
      ]
     },
     "execution_count": 102,
     "metadata": {},
     "output_type": "execute_result"
    }
   ],
   "source": [
    "df.tail()"
   ]
  },
  {
   "cell_type": "markdown",
   "id": "ba1bf307-56f1-40d1-8077-dc366aab6fc8",
   "metadata": {},
   "source": [
    "# Business Statement:"
   ]
  },
  {
   "cell_type": "markdown",
   "id": "260a8cbc-2232-4642-a658-f49f7abdaf9a",
   "metadata": {},
   "source": [
    "## Analysis of sales and pricing strategy in the motorcycle and electric bike market by analyzing key factors such as price, performance metrics, and customer demand for different types of bikes."
   ]
  },
  {
   "cell_type": "markdown",
   "id": "4d325c32-bbd1-4dd2-b52f-3ebf399b3369",
   "metadata": {},
   "source": [
    "## 1. Distribution of Bike Prices"
   ]
  },
  {
   "cell_type": "markdown",
   "id": "c6c7cea8-7f10-42a8-93bb-4b5d69f91a44",
   "metadata": {},
   "source": [
    "### A histogram of the price column shows how prices are distributed."
   ]
  },
  {
   "cell_type": "code",
   "execution_count": 46,
   "id": "a10b0fd7-a660-4aeb-bf12-1e2d3fe0667e",
   "metadata": {},
   "outputs": [
    {
     "data": {
      "image/png": "[encoded data removed]",
      "text/plain": [
       "<Figure size 640x480 with 1 Axes>"
      ]
     },
     "metadata": {},
     "output_type": "display_data"
    }
   ],
   "source": [
    "sns.histplot(df.price,bins=50)\n",
    "mlt.title('Distribution of Bike Prices')\n",
    "mlt.xlabel('Price')\n",
    "mlt.ylabel('Frequency')\n",
    "mlt.show()"
   ]
  },
  {
   "cell_type": "markdown",
   "id": "3471d245-aae2-422f-b83b-11dc31673a86",
   "metadata": {},
   "source": [
    "## 2. Distribution of Bike CC"
   ]
  },
  {
   "cell_type": "markdown",
   "id": "98dbfccd-b84a-4e63-9858-f5b2ff4cd712",
   "metadata": {},
   "source": [
    "### A displot to show how the bikes are been distributed according to its CC."
   ]
  },
  {
   "cell_type": "code",
   "execution_count": 77,
   "id": "9e993817-10b3-46a9-a0b0-99079954ad77",
   "metadata": {},
   "outputs": [
    {
     "data": {
      "image/png": "[encoded data removed]",
      "text/plain": [
       "<Figure size 500x500 with 1 Axes>"
      ]
     },
     "metadata": {},
     "output_type": "display_data"
    }
   ],
   "source": [
    "sns.displot(df.CC, color='y')\n",
    "mlt.title('Distribution of Bike CC')\n",
    "mlt.show()"
   ]
  },
  {
   "cell_type": "markdown",
   "id": "db9a29cf-c58f-4d3e-a5b2-014511ca53b7",
   "metadata": {},
   "source": [
    "## 3. Distribution according to Mileage of the bike"
   ]
  },
  {
   "cell_type": "markdown",
   "id": "aa0d091a-0c35-4f18-b716-2846b9fc7bd9",
   "metadata": {},
   "source": [
    "### A kedplot to showcase the distribution of bikes according to its mileage."
   ]
  },
  {
   "cell_type": "code",
   "execution_count": 79,
   "id": "f06a9eee-0130-47a1-8ce1-436a2581e687",
   "metadata": {},
   "outputs": [
    {
     "data": {
      "image/png": "[encoded data removed]",
      "text/plain": [
       "<Figure size 640x480 with 1 Axes>"
      ]
     },
     "metadata": {},
     "output_type": "display_data"
    }
   ],
   "source": [
    "sns.kdeplot(df.mileage, color='k')\n",
    "mlt.title('Distribution according to Mileage of the bike')\n",
    "mlt.show()"
   ]
  },
  {
   "cell_type": "markdown",
   "id": "ad37e98f-ea43-4b2a-9bf1-c5e69c90be0d",
   "metadata": {},
   "source": [
    "## 4. Distribution based on bike type"
   ]
  },
  {
   "cell_type": "code",
   "execution_count": 80,
   "id": "ccb35318-ff5a-4dba-b02f-f78fd4fcf93f",
   "metadata": {},
   "outputs": [
    {
     "data": {
      "image/png": "[encoded data removed]",
      "text/plain": [
       "<Figure size 640x480 with 1 Axes>"
      ]
     },
     "metadata": {},
     "output_type": "display_data"
    }
   ],
   "source": [
    "mlt.pie(df.type_of_bike.value_counts(),labels=df.type_of_bike.value_counts().index,autopct=\"%.2f%%\")\n",
    "mlt.title('Distribution based on bike type')\n",
    "mlt.show()"
   ]
  },
  {
   "cell_type": "markdown",
   "id": "e916f467-cd0a-44bc-8991-fb08095cdbd9",
   "metadata": {},
   "source": [
    "## 5. Distribution according to the weight of the bike"
   ]
  },
  {
   "cell_type": "code",
   "execution_count": 82,
   "id": "553f57bf-3569-4989-8d10-be868ef9dd6a",
   "metadata": {},
   "outputs": [
    {
     "data": {
      "image/png": "[encoded data removed]",
      "text/plain": [
       "<Figure size 500x500 with 1 Axes>"
      ]
     },
     "metadata": {},
     "output_type": "display_data"
    }
   ],
   "source": [
    "sns.displot(df.weight_in_kg)\n",
    "mlt.title('Distribution according to the weight of the bike')\n",
    "mlt.show()"
   ]
  },
  {
   "cell_type": "markdown",
   "id": "61c1fccc-445d-466a-918a-582c9bef6cfa",
   "metadata": {},
   "source": [
    "## 6. Top Speed vs. Price"
   ]
  },
  {
   "cell_type": "markdown",
   "id": "fcf605b9-dccb-4091-9f11-0ce8a9514938",
   "metadata": {},
   "source": [
    "### A scatter plot to see if there’s a correlation between top_speed and price."
   ]
  },
  {
   "cell_type": "code",
   "execution_count": 60,
   "id": "24107d92-0311-442a-8219-51341ac58e13",
   "metadata": {},
   "outputs": [
    {
     "data": {
      "image/png": "[encoded data removed]",
      "text/plain": [
       "<Figure size 640x480 with 1 Axes>"
      ]
     },
     "metadata": {},
     "output_type": "display_data"
    }
   ],
   "source": [
    "sns.scatterplot(data=df,x=df.top_speed,y=df.price,color='r')\n",
    "mlt.title('Top Speed vs. Price')\n",
    "mlt.xlabel('Top Speed (km/h)')\n",
    "mlt.ylabel('Price')\n",
    "mlt.show()"
   ]
  },
  {
   "cell_type": "markdown",
   "id": "7a436d33-4fc2-4b4a-bbfa-296110f986a7",
   "metadata": {},
   "source": [
    "## 7. Acceleration Speed Distribution by Bike Type"
   ]
  },
  {
   "cell_type": "markdown",
   "id": "80352014-0245-4972-bc1e-f2b4c26d5552",
   "metadata": {},
   "source": [
    "### violinplot to show the distribution of acceleration_speed for each type_of_bike."
   ]
  },
  {
   "cell_type": "code",
   "execution_count": 64,
   "id": "bfc1b38a-8924-4e25-88f6-43878573087b",
   "metadata": {},
   "outputs": [
    {
     "data": {
      "image/png": "[encoded data removed]",
      "text/plain": [
       "<Figure size 640x480 with 1 Axes>"
      ]
     },
     "metadata": {},
     "output_type": "display_data"
    }
   ],
   "source": [
    "sns.violinplot(df,x=df.acceleration_speed,y=df.type_of_bike,color='m')\n",
    "mlt.title('Acceleration Speed Distribution by Bike Type')\n",
    "mlt.ylabel('Type of Bike')\n",
    "mlt.xlabel('Acceleration Speed (0-60 km/h in seconds)')\n",
    "mlt.show()"
   ]
  },
  {
   "cell_type": "markdown",
   "id": "5a08e231-804c-4e40-a41b-6cba4e6fbbfe",
   "metadata": {},
   "source": [
    "## 8. Mileage distribution by weight_in _kg"
   ]
  },
  {
   "cell_type": "markdown",
   "id": "6b5abf04-e194-4ecc-a3d2-0e754a14d5a4",
   "metadata": {},
   "source": [
    "### relplot to show the distribution of mileage according to the weight of the bike."
   ]
  },
  {
   "cell_type": "code",
   "execution_count": 84,
   "id": "1432b6f0-9d4d-4160-962e-835eb9e667b1",
   "metadata": {},
   "outputs": [
    {
     "data": {
      "image/png": "[encoded data removed]",
      "text/plain": [
       "<Figure size 500x500 with 1 Axes>"
      ]
     },
     "metadata": {},
     "output_type": "display_data"
    }
   ],
   "source": [
    "sns.relplot(df,x=df.mileage,y=df.weight_in_kg)\n",
    "mlt.title('Mileage distribution by weight_in _kg')\n",
    "mlt.xlabel('Mileage (km/l)')\n",
    "mlt.ylabel('weight (kg)')\n",
    "mlt.show()"
   ]
  },
  {
   "cell_type": "markdown",
   "id": "e12651e9-f143-4362-86d3-5b79593c39be",
   "metadata": {},
   "source": [
    "## Conclusion\n",
    "### The bike dataset reveals clear segments within the market based on performance metrics, price, and bike type. Higher-priced bikes generally offer better top speeds, appealing to performance-driven customers, while electric bikes excel in mileage, attracting eco-conscious commuters. Weight and mileage trends further suggest that lighter bikes suit city commuters, whereas heavier models may cater to performance and off-road enthusiasts. Leveraging these insights can help refine product offerings and target marketing efforts effectively, aligning with customer preferences across diverse segments."
   ]
  }
 ],
 "metadata": {
  "kernelspec": {
   "display_name": "Python 3 (ipykernel)",
   "language": "python",
   "name": "python3"
  },
  "language_info": {
   "codemirror_mode": {
    "name": "ipython",
    "version": 3
   },
   "file_extension": ".py",
   "mimetype": "text/x-python",
   "name": "python",
   "nbconvert_exporter": "python",
   "pygments_lexer": "ipython3",
   "version": "3.12.4"
  }
 },
 "nbformat": 4,
 "nbformat_minor": 5
}
